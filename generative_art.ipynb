{
 "cells": [
  {
   "cell_type": "code",
   "execution_count": 276,
   "id": "68139c2e",
   "metadata": {},
   "outputs": [],
   "source": [
    "import math\n",
    "import numpy as np\n",
    "import random\n",
    "import matplotlib.pyplot as plt\n",
    "from samila import GenerativeImage, Projection"
   ]
  },
  {
   "cell_type": "code",
   "execution_count": 285,
   "id": "531bff90",
   "metadata": {},
   "outputs": [],
   "source": [
    "def drawImage1():\n",
    "    for i in range(13):\n",
    "        \n",
    "        # List of Possible Colors\n",
    "        COLORS = ['aliceblue','aqua','aquamarine4','azure4','blue','blueviolet','brown2','cadetblue1','chartreuse2','cobalt','darkorchid','violetred','yellow','cyan2']\n",
    "        # Randomly Selecting a Color From The List\n",
    "        ranColor = random.choice(COLORS)\n",
    "        \n",
    "        # Mathematical Equation 1 Behind The Art\n",
    "        def f1(x,y):\n",
    "            result = random.uniform(-3,3) * y**2 - math.sin(y**2) + abs(y-x)\n",
    "            return result\n",
    "        \n",
    "        # Mathematical Equation 2 Behind The Art\n",
    "        def f2(x,y):\n",
    "            result = random.uniform(-3,3) * y**3 - math.cos(x**3) + 2*x\n",
    "            return result\n",
    "        \n",
    "        # Creating Instance of GenerativeImage using the Two Functions\n",
    "        g = GenerativeImage(f1,f2)\n",
    "        g.generate()\n",
    "        g.seed\n",
    "        g.plot(projection=Projection.POLAR, color = ranColor, bgcolor = 'black')\n",
    "        g.save_image(file_adr=f'output/POLAR/POLAR_{i}.png')\n",
    "        g.plot(projection=Projection.RECTILINEAR, color = ranColor, bgcolor = 'black')\n",
    "        g.save_image(file_adr=f'output/RECTILINEAR/RECTILINEAR_{i}.png')\n",
    "        g.plot(projection=Projection.MOLLWEIDE, color = ranColor, bgcolor = 'black')\n",
    "        g.save_image(file_adr=f'output/MOLLWEIDE/MOLLWEIDE_{i}.png')\n",
    "        \n",
    "        # Creating A New Instance of GenerativeImage without the Two Functions\n",
    "        g = GenerativeImage()\n",
    "        g.generate()\n",
    "        g.plot(color = ranColor, bgcolor = 'black')\n",
    "        g.save_image(file_adr=f'output/STANDARD/STANDARD_{i}.png')\n",
    "        \n",
    "        plt.close('all')\n",
    "        "
   ]
  },
  {
   "cell_type": "code",
   "execution_count": 286,
   "id": "2ceda98d",
   "metadata": {},
   "outputs": [],
   "source": [
    "def drawImage2():\n",
    "    for i in range(13):\n",
    "        \n",
    "        # Random Number for Equations\n",
    "        ranNum = random.randint(1,10)\n",
    "        \n",
    "        # List of Possible Colors\n",
    "        COLORS = ['aliceblue','aqua','aquamarine4','azure4','blue','blueviolet','brown2','cadetblue1','chartreuse2','cobalt','darkorchid','violetred','yellow','cyan2']\n",
    "        # Randomly Selecting a Color From The List\n",
    "        ranColor = random.choice(COLORS)\n",
    "        \n",
    "        # Mathematical Equation 1 Behind The Art\n",
    "        def f1(x,y):\n",
    "            phase = -np.pi / 2 * random.uniform(-5,5)\n",
    "            angles = np.linspace(0,2*np.pi,ranNum) * random.uniform(-2,2)\n",
    "            result = np.sin(angles + phase) * x**3 - np.cos(angles+phase) + 2*y\n",
    "            return result\n",
    "        \n",
    "        # Mathematical Equation 2 Behind The Art\n",
    "        def f2(x,y):\n",
    "            phase = -np.pi / 2 * random.uniform(-5,5)\n",
    "            angles = np.linspace(0,2*np.pi,ranNum) * random.uniform(-2,2)\n",
    "            result = np.cos(angles + phase) * y**3 - np.sin(angles+phase) + 2*x\n",
    "            return result\n",
    "        \n",
    "        # Creating Instance of GenerativeImage using the Two Functions\n",
    "        g = GenerativeImage(f1,f2)\n",
    "        g.generate()\n",
    "        g.seed\n",
    "        g.plot(projection=Projection.POLAR, color = ranColor, bgcolor = 'black')\n",
    "        g.save_image(file_adr=f'output/POLAR/POLAR_V2_{i}.png')\n",
    "        g.plot(projection=Projection.RECTILINEAR, color = ranColor, bgcolor = 'black')\n",
    "        g.save_image(file_adr=f'output/RECTILINEAR/RECTILINEAR_V2_{i}.png')\n",
    "        g.plot(projection=Projection.MOLLWEIDE, color = ranColor, bgcolor = 'black')\n",
    "        g.save_image(file_adr=f'output/MOLLWEIDE/MOLLWEIDE_V2_{i}.png')\n",
    "        \n",
    "        # Creating A New Instance of GenerativeImage without the Two Functions\n",
    "        g = GenerativeImage()\n",
    "        g.generate()\n",
    "        g.plot(color = ranColor, bgcolor = 'black')\n",
    "        g.save_image(file_adr=f'output/STANDARD/STANDARD_V2_{i}.png')\n",
    "        \n",
    "        plt.close('all')\n",
    "        "
   ]
  },
  {
   "cell_type": "code",
   "execution_count": 287,
   "id": "d2b98367",
   "metadata": {},
   "outputs": [],
   "source": [
    "def run():\n",
    "    drawImage1()\n",
    "    drawImage2()"
   ]
  },
  {
   "cell_type": "code",
   "execution_count": 283,
   "id": "2fa0da58",
   "metadata": {},
   "outputs": [],
   "source": [
    "run()"
   ]
  },
  {
   "cell_type": "code",
   "execution_count": null,
   "id": "bc0f04cd",
   "metadata": {},
   "outputs": [],
   "source": []
  }
 ],
 "metadata": {
  "kernelspec": {
   "display_name": "Python 3 (ipykernel)",
   "language": "python",
   "name": "python3"
  },
  "language_info": {
   "codemirror_mode": {
    "name": "ipython",
    "version": 3
   },
   "file_extension": ".py",
   "mimetype": "text/x-python",
   "name": "python",
   "nbconvert_exporter": "python",
   "pygments_lexer": "ipython3",
   "version": "3.8.5"
  }
 },
 "nbformat": 4,
 "nbformat_minor": 5
}
